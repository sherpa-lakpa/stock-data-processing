{
 "cells": [
  {
   "cell_type": "code",
   "execution_count": 51,
   "metadata": {},
   "outputs": [],
   "source": [
    "import os\n",
    "import random\n",
    "import pandas as pd\n",
    "from sklearn.model_selection import train_test_split\n",
    "from sklearn.ensemble import RandomForestRegressor\n",
    "from sklearn.linear_model import LinearRegression, Lasso, Ridge\n",
    "from sklearn.tree import DecisionTreeRegressor\n",
    "from sklearn.svm import SVR\n",
    "from sklearn.neighbors import KNeighborsRegressor\n",
    "from sklearn.metrics import mean_absolute_error, mean_squared_error"
   ]
  },
  {
   "cell_type": "code",
   "execution_count": 52,
   "metadata": {},
   "outputs": [],
   "source": [
    "symbols_valid_meta = pd.read_csv('data/symbols_valid_meta.csv')\n",
    "symbols_valid_meta = symbols_valid_meta[['Symbol', 'Security Name']]"
   ]
  },
  {
   "cell_type": "code",
   "execution_count": 53,
   "metadata": {},
   "outputs": [],
   "source": [
    "etfs_files = os.listdir('data/etfs')\n",
    "stocks_files = os.listdir('data/stocks')\n",
    "columns = ['Symbol', 'Security Name', 'Date', 'Open', 'High', 'Low', 'Close', 'Adj Close', 'Volume']"
   ]
  },
  {
   "cell_type": "code",
   "execution_count": 54,
   "metadata": {},
   "outputs": [],
   "source": [
    "random.seed(42)\n",
    "etfs_files = random.sample(etfs_files, 100)\n",
    "stocks_files = random.sample(stocks_files, 100)"
   ]
  },
  {
   "cell_type": "code",
   "execution_count": 41,
   "metadata": {},
   "outputs": [],
   "source": [
    "etf_df_list = []\n",
    "for etf in etfs_files:\n",
    "    etf_df = pd.read_csv(f'data/etfs/{etf}')\n",
    "    symbol = etf.replace('.csv', '')\n",
    "    etf_df['Symbol'] = symbol\n",
    "    etf_merged_df = etf_df.merge(symbols_valid_meta, on='Symbol', how='left')\n",
    "    etf_final_df = etf_merged_df[columns]\n",
    "    etf_df_list.append(etf_final_df)\n",
    "\n",
    "etfs_df = pd.concat(etf_df_list)\n",
    "\n",
    "columns = ['Symbol', 'Security Name', 'Date', 'Open', 'High', 'Low', 'Close', 'Adj Close', 'Volume']\n",
    "stock_df_list = []\n",
    "stocks_df = pd.DataFrame()\n",
    "for stock in stocks_files:\n",
    "    stock_df = pd.read_csv(f'data/stocks/{stock}')\n",
    "    symbol = stock.replace('.csv', '')\n",
    "    stock_df['Symbol'] = symbol\n",
    "    stock_merged_df = stock_df.merge(symbols_valid_meta, on='Symbol', how='left')\n",
    "    stock_final_df = stock_merged_df[columns]\n",
    "    stocks_df = stocks_df.append(stock_final_df)\n",
    "    stock_df_list.append(stock_final_df)\n",
    "\n",
    "stocks_df = pd.concat(stock_df_list)\n",
    "\n",
    "data = pd.concat([stocks_df, etfs_df])\n",
    "\n",
    "# Calculate the rolling average of the trading volume (Volume)\n",
    "data['vol_moving_avg'] = data.groupby('Symbol')['Volume'].transform(lambda x: x.rolling(window=30).mean())\n",
    "\n",
    "# Calculate the rolling median of the Adjusted Close (Adj Close)\n",
    "data['adj_close_rolling_med'] = data.groupby('Symbol')['Adj Close'].transform(lambda x: x.rolling(window=30).median())\n"
   ]
  },
  {
   "cell_type": "code",
   "execution_count": 42,
   "metadata": {},
   "outputs": [],
   "source": [
    "# Assume `data` is loaded as a Pandas DataFrame\n",
    "data['Date'] = pd.to_datetime(data['Date'])\n",
    "data.set_index('Date', inplace=True)\n",
    "\n",
    "# Remove rows with NaN values\n",
    "data.dropna(inplace=True)\n",
    "\n",
    "# Select features and target\n",
    "features = ['vol_moving_avg', 'adj_close_rolling_med']\n",
    "target = 'Volume'\n",
    "\n",
    "X = data[features]\n",
    "y = data[target]\n",
    "\n",
    "# Split data into train and test sets\n",
    "X_train, X_test, y_train, y_test = train_test_split(X, y, test_size=0.2, random_state=42)"
   ]
  },
  {
   "cell_type": "code",
   "execution_count": 43,
   "metadata": {},
   "outputs": [],
   "source": [
    "# Create a list of regression models\n",
    "models = [LinearRegression(), Lasso(), Ridge(), DecisionTreeRegressor(), SVR(), KNeighborsRegressor(), RandomForestRegressor(n_estimators=100, random_state=42)]\n",
    "\n",
    "report = []\n",
    "# Train and evaluate each model\n",
    "for model in models:\n",
    "    # Train the model\n",
    "    model.fit(X_train, y_train)\n",
    "    \n",
    "    # Make predictions on test data\n",
    "    y_pred = model.predict(X_test)\n",
    "    \n",
    "    # Calculate the Mean Absolute Error and Mean Squared Error\n",
    "    mae = mean_absolute_error(y_test, y_pred)\n",
    "    mse = mean_squared_error(y_test, y_pred)\n",
    "    \n",
    "    # Print the model name and the evaluation metrics\n",
    "    report.append([type(model).__name__, mae, mse])"
   ]
  },
  {
   "cell_type": "code",
   "execution_count": 44,
   "metadata": {},
   "outputs": [
    {
     "data": {
      "text/html": [
       "<div>\n",
       "<style scoped>\n",
       "    .dataframe tbody tr th:only-of-type {\n",
       "        vertical-align: middle;\n",
       "    }\n",
       "\n",
       "    .dataframe tbody tr th {\n",
       "        vertical-align: top;\n",
       "    }\n",
       "\n",
       "    .dataframe thead th {\n",
       "        text-align: right;\n",
       "    }\n",
       "</style>\n",
       "<table border=\"1\" class=\"dataframe\">\n",
       "  <thead>\n",
       "    <tr style=\"text-align: right;\">\n",
       "      <th></th>\n",
       "      <th>model</th>\n",
       "      <th>MAE</th>\n",
       "      <th>MSE</th>\n",
       "    </tr>\n",
       "  </thead>\n",
       "  <tbody>\n",
       "    <tr>\n",
       "      <th>0</th>\n",
       "      <td>LinearRegression</td>\n",
       "      <td>4.553994e+05</td>\n",
       "      <td>1.388402e+12</td>\n",
       "    </tr>\n",
       "    <tr>\n",
       "      <th>1</th>\n",
       "      <td>Lasso</td>\n",
       "      <td>4.553994e+05</td>\n",
       "      <td>1.388402e+12</td>\n",
       "    </tr>\n",
       "    <tr>\n",
       "      <th>2</th>\n",
       "      <td>Ridge</td>\n",
       "      <td>4.553994e+05</td>\n",
       "      <td>1.388402e+12</td>\n",
       "    </tr>\n",
       "    <tr>\n",
       "      <th>3</th>\n",
       "      <td>DecisionTreeRegressor</td>\n",
       "      <td>5.600433e+05</td>\n",
       "      <td>1.951927e+12</td>\n",
       "    </tr>\n",
       "    <tr>\n",
       "      <th>4</th>\n",
       "      <td>SVR</td>\n",
       "      <td>1.077131e+06</td>\n",
       "      <td>5.130811e+12</td>\n",
       "    </tr>\n",
       "    <tr>\n",
       "      <th>5</th>\n",
       "      <td>KNeighborsRegressor</td>\n",
       "      <td>5.132887e+05</td>\n",
       "      <td>1.682489e+12</td>\n",
       "    </tr>\n",
       "    <tr>\n",
       "      <th>6</th>\n",
       "      <td>RandomForestRegressor</td>\n",
       "      <td>4.493606e+05</td>\n",
       "      <td>1.444240e+12</td>\n",
       "    </tr>\n",
       "  </tbody>\n",
       "</table>\n",
       "</div>"
      ],
      "text/plain": [
       "                   model           MAE           MSE\n",
       "0       LinearRegression  4.553994e+05  1.388402e+12\n",
       "1                  Lasso  4.553994e+05  1.388402e+12\n",
       "2                  Ridge  4.553994e+05  1.388402e+12\n",
       "3  DecisionTreeRegressor  5.600433e+05  1.951927e+12\n",
       "4                    SVR  1.077131e+06  5.130811e+12\n",
       "5    KNeighborsRegressor  5.132887e+05  1.682489e+12\n",
       "6  RandomForestRegressor  4.493606e+05  1.444240e+12"
      ]
     },
     "execution_count": 44,
     "metadata": {},
     "output_type": "execute_result"
    }
   ],
   "source": [
    "pd.DataFrame(report, columns=['model', 'MAE', 'MSE'])\n"
   ]
  },
  {
   "cell_type": "code",
   "execution_count": 49,
   "metadata": {},
   "outputs": [
    {
     "data": {
      "text/html": [
       "<div>\n",
       "<style scoped>\n",
       "    .dataframe tbody tr th:only-of-type {\n",
       "        vertical-align: middle;\n",
       "    }\n",
       "\n",
       "    .dataframe tbody tr th {\n",
       "        vertical-align: top;\n",
       "    }\n",
       "\n",
       "    .dataframe thead th {\n",
       "        text-align: right;\n",
       "    }\n",
       "</style>\n",
       "<table border=\"1\" class=\"dataframe\">\n",
       "  <thead>\n",
       "    <tr style=\"text-align: right;\">\n",
       "      <th></th>\n",
       "      <th>model</th>\n",
       "      <th>MAE</th>\n",
       "      <th>MSE</th>\n",
       "    </tr>\n",
       "  </thead>\n",
       "  <tbody>\n",
       "    <tr>\n",
       "      <th>0</th>\n",
       "      <td>RandomForestRegressor(n_estimators=50)</td>\n",
       "      <td>450510.857447</td>\n",
       "      <td>1.509658e+12</td>\n",
       "    </tr>\n",
       "    <tr>\n",
       "      <th>1</th>\n",
       "      <td>RandomForestRegressor(n_estimators=100)</td>\n",
       "      <td>449360.605636</td>\n",
       "      <td>1.444240e+12</td>\n",
       "    </tr>\n",
       "    <tr>\n",
       "      <th>2</th>\n",
       "      <td>RandomForestRegressor(n_estimators=500)</td>\n",
       "      <td>449946.668335</td>\n",
       "      <td>1.464033e+12</td>\n",
       "    </tr>\n",
       "    <tr>\n",
       "      <th>3</th>\n",
       "      <td>RandomForestRegressor(n_estimators=1000)</td>\n",
       "      <td>449528.192406</td>\n",
       "      <td>1.469937e+12</td>\n",
       "    </tr>\n",
       "  </tbody>\n",
       "</table>\n",
       "</div>"
      ],
      "text/plain": [
       "                                      model            MAE           MSE\n",
       "0    RandomForestRegressor(n_estimators=50)  450510.857447  1.509658e+12\n",
       "1   RandomForestRegressor(n_estimators=100)  449360.605636  1.444240e+12\n",
       "2   RandomForestRegressor(n_estimators=500)  449946.668335  1.464033e+12\n",
       "3  RandomForestRegressor(n_estimators=1000)  449528.192406  1.469937e+12"
      ]
     },
     "execution_count": 49,
     "metadata": {},
     "output_type": "execute_result"
    }
   ],
   "source": [
    "models = [\n",
    "    RandomForestRegressor(n_estimators=50, random_state=42),\n",
    "    RandomForestRegressor(n_estimators=100, random_state=42),\n",
    "    RandomForestRegressor(n_estimators=500, random_state=42),\n",
    "    RandomForestRegressor(n_estimators=1000, random_state=42),\n",
    "]\n",
    "report = []\n",
    "# Train and evaluate each model\n",
    "for model in models:\n",
    "    # Train the model\n",
    "    model.fit(X_train, y_train)\n",
    "    \n",
    "    # Make predictions on test data\n",
    "    y_pred = model.predict(X_test)\n",
    "    \n",
    "    # Calculate the Mean Absolute Error and Mean Squared Error\n",
    "    mae = mean_absolute_error(y_test, y_pred)\n",
    "    mse = mean_squared_error(y_test, y_pred)\n",
    "    \n",
    "    # Print the model name and the evaluation metrics\n",
    "    report.append([f\"{type(model).__name__}(n_estimators={len(model.estimators_)})\", mae, mse])\n",
    "\n",
    "pd.DataFrame(report, columns=['model', 'MAE', 'MSE'])"
   ]
  },
  {
   "cell_type": "code",
   "execution_count": 48,
   "metadata": {},
   "outputs": [
    {
     "data": {
      "text/plain": [
       "1000"
      ]
     },
     "execution_count": 48,
     "metadata": {},
     "output_type": "execute_result"
    }
   ],
   "source": []
  },
  {
   "cell_type": "code",
   "execution_count": null,
   "metadata": {},
   "outputs": [],
   "source": []
  }
 ],
 "metadata": {
  "kernelspec": {
   "display_name": "Python 3",
   "language": "python",
   "name": "python3"
  },
  "language_info": {
   "codemirror_mode": {
    "name": "ipython",
    "version": 3
   },
   "file_extension": ".py",
   "mimetype": "text/x-python",
   "name": "python",
   "nbconvert_exporter": "python",
   "pygments_lexer": "ipython3",
   "version": "3.6.15 (default, Jan 16 2023, 20:47:29) \n[GCC Apple LLVM 14.0.0 (clang-1400.0.29.202)]"
  },
  "orig_nbformat": 4,
  "vscode": {
   "interpreter": {
    "hash": "0a13c4bd1bd0bb5e47302c1e5eab57b32e083a3e782930007a947456f007beb5"
   }
  }
 },
 "nbformat": 4,
 "nbformat_minor": 2
}
